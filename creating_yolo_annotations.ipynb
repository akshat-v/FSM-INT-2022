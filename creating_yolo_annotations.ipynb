{
  "nbformat": 4,
  "nbformat_minor": 0,
  "metadata": {
    "colab": {
      "name": "creating yolo annotations.ipynb",
      "provenance": [],
      "collapsed_sections": []
    },
    "kernelspec": {
      "name": "python3",
      "display_name": "Python 3"
    },
    "language_info": {
      "name": "python"
    }
  },
  "cells": [
    {
      "cell_type": "code",
      "source": [
        "from google.colab import drive\n",
        "drive.mount('/content/drive')"
      ],
      "metadata": {
        "colab": {
          "base_uri": "https://localhost:8080/"
        },
        "id": "wKvB1Y0c5xZ5",
        "outputId": "275da06b-3ae0-4c88-93d2-c5451dcac463"
      },
      "execution_count": null,
      "outputs": [
        {
          "output_type": "stream",
          "name": "stdout",
          "text": [
            "Mounted at /content/drive\n"
          ]
        }
      ]
    },
    {
      "cell_type": "code",
      "execution_count": null,
      "metadata": {
        "id": "Cmi1o8qNrypd",
        "colab": {
          "base_uri": "https://localhost:8080/"
        },
        "outputId": "de42ba73-04eb-43a4-f2d7-cda8fd947299"
      },
      "outputs": [
        {
          "output_type": "stream",
          "name": "stdout",
          "text": [
            "3 0.0203125 0.021875 0.0421875 0.0453125\n",
            "\n",
            "2 0.0296875 0.075 0.0609375 0.15\n",
            "\n",
            "4 0.025 0.0265625 0.0515625 0.0546875\n",
            "\n",
            "4 0.025 0.028125 0.05 0.05625\n",
            "\n",
            "5 0.0234375 0.0203125 0.0484375 0.040625\n",
            "\n",
            "6 0.025 0.0203125 0.0515625 0.0421875\n",
            "\n",
            "6 0.028125 0.021875 0.0578125 0.0453125\n",
            "\n",
            "6 0.021875 0.021875 0.04375 0.0453125\n",
            "\n",
            "1 0.040625 0.04375 0.0828125 0.0890625\n",
            "\n",
            "5 0.0296875 0.021875 0.059375 0.04375\n",
            "\n"
          ]
        }
      ],
      "source": [
        "f = open(\"/content/drive/MyDrive/INTP2022-ML-3/Dataset/PCBData/group00041/00041_not/00041000.txt\", \"r\")\n",
        "f2 = open('/content/readme2.txt', 'w')\n",
        "for x in f:\n",
        "  val=x.split()\n",
        "  x=abs(int(val[0])-int(val[2]))//2\n",
        "  y=abs(int(val[1])-int(val[3]))//2\n",
        "  breadth=abs(int(val[0])-int(val[2]))\n",
        "  height=abs(int(val[1])-int(val[3]))\n",
        "  label=val[-1]\n",
        "  image_w=640\n",
        "  image_h=640  \n",
        "  b_center_x = x/image_w \n",
        "  b_center_y = y/image_h \n",
        "  b_width    = breadth/image_w \n",
        "  b_height   = height/image_h \n",
        "  string= str(label)+' '+ str(b_center_x)+' '+ str(b_center_y)+' '+ str(b_width) +' '+  str(b_height) +'\\n'\n",
        "  print(string)\n",
        "  f2.write(string)\n",
        "\n",
        "f2.close()\n",
        "\n"
      ]
    },
    {
      "cell_type": "code",
      "source": [
        "for filename in glob.glob(source_path+'/*.txt'):\n",
        "    f = open(filename, \"r\")\n",
        "    dest=filename.replace()"
      ],
      "metadata": {
        "id": "nRWFtVdpPD7-"
      },
      "execution_count": null,
      "outputs": []
    },
    {
      "cell_type": "code",
      "source": [
        "def convert_to_yolo(source_path,dest_path):\n",
        "  f = open(source_path, \"r\")\n",
        "  f2 = open(dest_path, 'w')\n",
        "  for x in f:\n",
        "    val=x.split()\n",
        "    x=abs(int(val[0])+int(val[2]))//2\n",
        "    y=abs(int(val[1])+int(val[3]))//2\n",
        "    breadth=abs(int(val[0])-int(val[2]))\n",
        "    height=abs(int(val[1])-int(val[3]))\n",
        "    label=val[-1]\n",
        "    image_w=640\n",
        "    image_h=640  \n",
        "    b_center_x = x/image_w \n",
        "    b_center_y = y/image_h \n",
        "    b_width    = breadth/image_w \n",
        "    b_height   = height/image_h \n",
        "    string= str(label)+' '+ str(b_center_x)+' '+ str(b_center_y)+' '+ str(b_width) +' '+  str(b_height) +'\\n'\n",
        "    #print(string)'''\n",
        "    f2.write(string)\n",
        "    \n",
        "  f2.close()\n",
        "\n",
        "\n",
        "\n",
        "\n",
        "\n",
        "\n",
        "  \n",
        "\n",
        "\n"
      ],
      "metadata": {
        "id": "kfwuur7TD-FA"
      },
      "execution_count": null,
      "outputs": []
    },
    {
      "cell_type": "code",
      "source": [
        "/content/drive/MyDrive/PCB dataset/1/annot"
      ],
      "metadata": {
        "id": "MpaaTnyzP5EG"
      },
      "execution_count": null,
      "outputs": []
    },
    {
      "cell_type": "code",
      "source": [
        "import glob"
      ],
      "metadata": {
        "id": "PKZaz_yMQ91A"
      },
      "execution_count": null,
      "outputs": []
    },
    {
      "cell_type": "code",
      "source": [
        "path='/content/drive/MyDrive/INTP2022-ML-3/Dataset/PCBData/group90100/90100_not/'\n",
        "rep=path.replace('/content/drive/MyDrive','')\n",
        "print(rep)\n",
        "for filename in glob.glob(path+'*.txt'):\n",
        " \n",
        "  root_img_name=filename.replace(rep,'/PCB dataset/1/last/')\n",
        "  convert_to_yolo(filename,root_img_name)"
      ],
      "metadata": {
        "colab": {
          "base_uri": "https://localhost:8080/"
        },
        "id": "ZRo836M0RNLX",
        "outputId": "b3ce1b84-7beb-4723-a8d7-451e06495ac6"
      },
      "execution_count": null,
      "outputs": [
        {
          "output_type": "stream",
          "name": "stdout",
          "text": [
            "/INTP2022-ML-3/Dataset/PCBData/group90100/90100_not/\n"
          ]
        }
      ]
    },
    {
      "cell_type": "code",
      "source": [
        "i=0\n",
        "for filename in glob.glob('/content/drive/MyDrive/PCB dataset/1/cannot/*.txt'):\n",
        "  i=i+1\n",
        "\n",
        "print(i)"
      ],
      "metadata": {
        "colab": {
          "base_uri": "https://localhost:8080/"
        },
        "id": "I9FOYf65TGqH",
        "outputId": "06c28d8c-bd24-4a9b-f41a-3b9a4c558733"
      },
      "execution_count": null,
      "outputs": [
        {
          "output_type": "stream",
          "name": "stdout",
          "text": [
            "1380\n"
          ]
        }
      ]
    },
    {
      "cell_type": "code",
      "source": [
        "import cv2"
      ],
      "metadata": {
        "id": "c6WZtIkUh4Hs"
      },
      "execution_count": null,
      "outputs": []
    },
    {
      "cell_type": "code",
      "source": [
        "path='/content/drive/MyDrive/PCB dataset/1/all_fault/*.jpg'\n",
        "\n",
        "\n",
        "for filename in glob.glob(path):\n",
        " \n",
        "  root_img_name=filename.replace('all_fault/','faulttt/')\n",
        "  root_img=root_img_name.replace('_test','')\n",
        "  a=cv2.imread(filename)\n",
        "  cv2.imwrite(root_img,a)\n",
        "\n",
        "  \n",
        "  \n",
        "\n",
        "  \n",
        " "
      ],
      "metadata": {
        "id": "CA5yobACPnuB"
      },
      "execution_count": null,
      "outputs": []
    },
    {
      "cell_type": "code",
      "source": [
        "i=0\n",
        "for filename in glob.glob('/content/drive/MyDrive/PCB dataset/1/anot2/*jpg'):\n",
        "  i=i+1\n",
        "\n",
        "print(i)"
      ],
      "metadata": {
        "colab": {
          "base_uri": "https://localhost:8080/"
        },
        "id": "EMTJRiplkXSP",
        "outputId": "36595542-bcae-4e49-d97c-9fad5bad0dbc"
      },
      "execution_count": null,
      "outputs": [
        {
          "output_type": "stream",
          "name": "stdout",
          "text": [
            "0\n"
          ]
        }
      ]
    },
    {
      "cell_type": "code",
      "source": [
        "f = open('/content/readme.txt', 'w')\n",
        "f.write('Create a new text file! \\n')\n",
        "f.write('Create a new text file!')\n",
        "f.close()"
      ],
      "metadata": {
        "id": "qfeiJ6qH7I8_"
      },
      "execution_count": null,
      "outputs": []
    },
    {
      "cell_type": "code",
      "source": [
        "for x in f:\n",
        "  print(x)"
      ],
      "metadata": {
        "colab": {
          "base_uri": "https://localhost:8080/",
          "height": 183
        },
        "id": "ibKmV211-1DN",
        "outputId": "c46a0f00-af98-43dc-ab05-97ed893b2773"
      },
      "execution_count": null,
      "outputs": [
        {
          "output_type": "error",
          "ename": "UnsupportedOperation",
          "evalue": "ignored",
          "traceback": [
            "\u001b[0;31m---------------------------------------------------------------------------\u001b[0m",
            "\u001b[0;31mUnsupportedOperation\u001b[0m                      Traceback (most recent call last)",
            "\u001b[0;32m<ipython-input-10-ee3b8fb6ba8f>\u001b[0m in \u001b[0;36m<module>\u001b[0;34m()\u001b[0m\n\u001b[0;32m----> 1\u001b[0;31m \u001b[0;32mfor\u001b[0m \u001b[0mx\u001b[0m \u001b[0;32min\u001b[0m \u001b[0mf\u001b[0m\u001b[0;34m:\u001b[0m\u001b[0;34m\u001b[0m\u001b[0;34m\u001b[0m\u001b[0m\n\u001b[0m\u001b[1;32m      2\u001b[0m   \u001b[0mprint\u001b[0m\u001b[0;34m(\u001b[0m\u001b[0mx\u001b[0m\u001b[0;34m)\u001b[0m\u001b[0;34m\u001b[0m\u001b[0;34m\u001b[0m\u001b[0m\n",
            "\u001b[0;31mUnsupportedOperation\u001b[0m: not readable"
          ]
        }
      ]
    },
    {
      "cell_type": "code",
      "source": [
        ""
      ],
      "metadata": {
        "id": "wfjiN-rl_Dqc"
      },
      "execution_count": null,
      "outputs": []
    }
  ]
}