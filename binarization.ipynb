{
  "nbformat": 4,
  "nbformat_minor": 0,
  "metadata": {
    "colab": {
      "name": "binarization.ipynb",
      "provenance": [],
      "collapsed_sections": []
    },
    "kernelspec": {
      "name": "python3",
      "display_name": "Python 3"
    },
    "language_info": {
      "name": "python"
    }
  },
  "cells": [
    {
      "cell_type": "code",
      "execution_count": null,
      "metadata": {
        "colab": {
          "base_uri": "https://localhost:8080/"
        },
        "id": "HZKp97bMTpnI",
        "outputId": "0c943c3c-ce20-4efc-8ef9-7a1f1786472d"
      },
      "outputs": [
        {
          "output_type": "stream",
          "name": "stdout",
          "text": [
            "Mounted at /content/drive\n"
          ]
        }
      ],
      "source": [
        "from google.colab import drive\n",
        "drive.mount('/content/drive')"
      ]
    },
    {
      "cell_type": "code",
      "source": [
        "import os\n",
        "import random\n",
        "import pandas as pd\n",
        "import numpy as np\n",
        "from glob import glob\n",
        "import cv2\n",
        "import matplotlib.pyplot as plt\n",
        "plt.style.use(\"ggplot\")\n",
        "from google.colab.patches import cv2_imshow\n",
        "import tensorflow as tf \n",
        "from tensorflow.keras.preprocessing.image import img_to_array , array_to_img"
      ],
      "metadata": {
        "id": "RNOmcmmlTxiO"
      },
      "execution_count": null,
      "outputs": []
    },
    {
      "cell_type": "code",
      "source": [
        "image_paths = glob('/content/drive/MyDrive/PCB dataset/1/all_mask/*.jpg')"
      ],
      "metadata": {
        "id": "oOT277i1T-h2"
      },
      "execution_count": null,
      "outputs": []
    },
    {
      "cell_type": "code",
      "source": [
        "img = cv2.imread('/content/drive/MyDrive/PCB dataset/1/all_mask/00041000_mask.jpg',0)\n",
        "ret,thresh1 = cv2.threshold(img,127,255,cv2.THRESH_BINARY)"
      ],
      "metadata": {
        "id": "BV1LGJJvUPHm"
      },
      "execution_count": null,
      "outputs": []
    },
    {
      "cell_type": "code",
      "source": [
        "np.unique(thresh1)"
      ],
      "metadata": {
        "colab": {
          "base_uri": "https://localhost:8080/"
        },
        "id": "o49j7hQGUXpl",
        "outputId": "e944c702-bef2-4b0f-a213-7bd1bc837033"
      },
      "execution_count": null,
      "outputs": [
        {
          "output_type": "execute_result",
          "data": {
            "text/plain": [
              "array([  0, 255], dtype=uint8)"
            ]
          },
          "metadata": {},
          "execution_count": 19
        }
      ]
    },
    {
      "cell_type": "code",
      "source": [
        "dest_name='/content/drive/MyDrive/PCB dataset/1/mask_bin/'"
      ],
      "metadata": {
        "id": "2gsHte9AVeRR"
      },
      "execution_count": null,
      "outputs": []
    },
    {
      "cell_type": "code",
      "source": [
        "for i in image_paths:\n",
        "  img = cv2.imread(i,0)\n",
        "  dest_name= i.replace('all_mask/','mask_bin/')\n",
        "  ret,thresh1 = cv2.threshold(img,127,255,cv2.THRESH_BINARY)\n",
        "  cv2.imwrite(dest_name, thresh1)\n"
      ],
      "metadata": {
        "id": "GzRsqvuwUfK2"
      },
      "execution_count": null,
      "outputs": []
    },
    {
      "cell_type": "code",
      "source": [
        "i=cv2.imread('/content/drive/MyDrive/PCB dataset/1/mask_bin/00041000_mask.jpg')\n",
        "cv2_imshow(i)"
      ],
      "metadata": {
        "colab": {
          "base_uri": "https://localhost:8080/",
          "height": 657
        },
        "id": "ZXGBW5VBVlrm",
        "outputId": "b1193dbc-ef03-4f7d-e510-a696255a25d7"
      },
      "execution_count": null,
      "outputs": [
        {
          "output_type": "display_data",
          "data": {
            "text/plain": [
              "<PIL.Image.Image image mode=RGB size=640x640 at 0x7F6A5A195A10>"
            ],
            "image/png": "[encoded data removed]"
          },
          "metadata": {}
        }
      ]
    },
    {
      "cell_type": "code",
      "source": [
        ""
      ],
      "metadata": {
        "id": "rzJzodRBXu_3"
      },
      "execution_count": null,
      "outputs": []
    }
  ]
}